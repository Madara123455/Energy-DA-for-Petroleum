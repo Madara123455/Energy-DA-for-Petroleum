{
 "cells": [
  {
   "cell_type": "code",
   "execution_count": 1,
   "id": "51a42c0e-5f9e-41be-b327-b9bb5b84360b",
   "metadata": {},
   "outputs": [
    {
     "name": "stdout",
     "output_type": "stream",
     "text": [
      "Hello World\n"
     ]
    }
   ],
   "source": [
    "print(\"Hello World\")"
   ]
  },
  {
   "cell_type": "code",
   "execution_count": 3,
   "id": "40750f76-1d19-41ab-94dd-e22e511bfcd7",
   "metadata": {},
   "outputs": [
    {
     "name": "stdout",
     "output_type": "stream",
     "text": [
      "I am not new to python.\n"
     ]
    }
   ],
   "source": [
    "print(\"I am not new to python.\")"
   ]
  },
  {
   "cell_type": "code",
   "execution_count": 5,
   "id": "9b2f4754-4f5d-439f-bd9b-4a0aeae6fb44",
   "metadata": {},
   "outputs": [
    {
     "name": "stdout",
     "output_type": "stream",
     "text": [
      "I am starting my Data Analytics journey for my internships.\n"
     ]
    }
   ],
   "source": [
    "print(\"I am starting my Data Analytics journey for my internships.\")"
   ]
  },
  {
   "cell_type": "code",
   "execution_count": 7,
   "id": "0a5b000c-3d6f-4c0a-946d-96fb8c7ec223",
   "metadata": {},
   "outputs": [
    {
     "name": "stdout",
     "output_type": "stream",
     "text": [
      "Wish me luck\n"
     ]
    }
   ],
   "source": [
    "print(\"Wish me luck\")"
   ]
  }
 ],
 "metadata": {
  "kernelspec": {
   "display_name": "Python 3 (ipykernel)",
   "language": "python",
   "name": "python3"
  },
  "language_info": {
   "codemirror_mode": {
    "name": "ipython",
    "version": 3
   },
   "file_extension": ".py",
   "mimetype": "text/x-python",
   "name": "python",
   "nbconvert_exporter": "python",
   "pygments_lexer": "ipython3",
   "version": "3.12.4"
  }
 },
 "nbformat": 4,
 "nbformat_minor": 5
}
