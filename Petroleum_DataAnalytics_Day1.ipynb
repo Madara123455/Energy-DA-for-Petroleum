{
  "nbformat": 4,
  "nbformat_minor": 0,
  "metadata": {
    "colab": {
      "provenance": [],
      "authorship_tag": "ABX9TyOOZ1vwl8vT8xNahb1HcNxc",
      "include_colab_link": true
    },
    "kernelspec": {
      "name": "python3",
      "display_name": "Python 3"
    },
    "language_info": {
      "name": "python"
    }
  },
  "cells": [
    {
      "cell_type": "markdown",
      "metadata": {
        "id": "view-in-github",
        "colab_type": "text"
      },
      "source": [
        "<a href=\"https://colab.research.google.com/github/Madara123455/Energy-DA-for-Petroleum/blob/main/Petroleum_DataAnalytics_Day1.ipynb\" target=\"_parent\"><img src=\"https://colab.research.google.com/assets/colab-badge.svg\" alt=\"Open In Colab\"/></a>"
      ]
    },
    {
      "cell_type": "code",
      "execution_count": 1,
      "metadata": {
        "id": "VEK2VxbVffFT",
        "colab": {
          "base_uri": "https://localhost:8080/"
        },
        "outputId": "65871323-2843-4074-dbe4-1217c8d92901"
      },
      "outputs": [
        {
          "output_type": "stream",
          "name": "stdout",
          "text": [
            "Hello world\n"
          ]
        }
      ],
      "source": [
        "print(\"Hello world\")"
      ]
    },
    {
      "cell_type": "code",
      "source": [
        "print(\"Satyam's life is great going\")"
      ],
      "metadata": {
        "colab": {
          "base_uri": "https://localhost:8080/"
        },
        "id": "oVhxIw-ESle6",
        "outputId": "45a46b51-3521-4cc5-a0e6-f81fc89b89e7"
      },
      "execution_count": 2,
      "outputs": [
        {
          "output_type": "stream",
          "name": "stdout",
          "text": [
            "Satyam's life is great going\n"
          ]
        }
      ]
    },
    {
      "cell_type": "code",
      "source": [
        "print('Satyam\\'s life is great going')"
      ],
      "metadata": {
        "colab": {
          "base_uri": "https://localhost:8080/"
        },
        "id": "YGXMPSmKSr2d",
        "outputId": "b6751dca-bbb4-4e7b-f143-443bc28f8f20"
      },
      "execution_count": 3,
      "outputs": [
        {
          "output_type": "stream",
          "name": "stdout",
          "text": [
            "Satyam's life is great going\n"
          ]
        }
      ]
    },
    {
      "cell_type": "code",
      "source": [
        "print(\"1\\n2\\n3\")"
      ],
      "metadata": {
        "colab": {
          "base_uri": "https://localhost:8080/"
        },
        "id": "nk4OLyMWSxXa",
        "outputId": "b4cf37c4-dce1-4400-828c-ec1046ba597e"
      },
      "execution_count": 4,
      "outputs": [
        {
          "output_type": "stream",
          "name": "stdout",
          "text": [
            "1\n",
            "2\n",
            "3\n"
          ]
        }
      ]
    }
  ]
}