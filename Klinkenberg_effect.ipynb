{
  "nbformat": 4,
  "nbformat_minor": 0,
  "metadata": {
    "colab": {
      "provenance": [],
      "authorship_tag": "ABX9TyMelSqY33XAhnF17yX0LreJ",
      "include_colab_link": true
    },
    "kernelspec": {
      "name": "python3",
      "display_name": "Python 3"
    },
    "language_info": {
      "name": "python"
    }
  },
  "cells": [
    {
      "cell_type": "markdown",
      "metadata": {
        "id": "view-in-github",
        "colab_type": "text"
      },
      "source": [
        "<a href=\"https://colab.research.google.com/github/Madara123455/Energy-DA-for-Petroleum/blob/main/Klinkenberg_effect.ipynb\" target=\"_parent\"><img src=\"https://colab.research.google.com/assets/colab-badge.svg\" alt=\"Open In Colab\"/></a>"
      ]
    },
    {
      "cell_type": "code",
      "execution_count": 1,
      "metadata": {
        "id": "tWqFoHU0rSVA"
      },
      "outputs": [],
      "source": [
        "import matplotlib.pyplot as plt"
      ]
    },
    {
      "cell_type": "code",
      "source": [
        " # print(plt.style.available) --> To check for available styles (Let's go for seaborn)"
      ],
      "metadata": {
        "id": "E4ZMPSYsrmnd"
      },
      "execution_count": 5,
      "outputs": []
    },
    {
      "cell_type": "code",
      "source": [
        "plt.style.use('ggplot')"
      ],
      "metadata": {
        "id": "OR--8cwVsRg2"
      },
      "execution_count": 6,
      "outputs": []
    },
    {
      "cell_type": "markdown",
      "source": [
        "### Klinkenberg effect :\n",
        "\n",
        "> When gas permeability ($k_{g}$) and liquid permeability ($k_{l}$) of a core sample differs then this effect is called as Klinkenberg effect.\n",
        "\n",
        "\n",
        "> This is caused due to effect of gas slippage on the pore walls and as a result gas flow improves within these pore spaces this effect is superior when these pore space are very small."
      ],
      "metadata": {
        "id": "6bemZjoutMSf"
      }
    },
    {
      "cell_type": "markdown",
      "source": [
        "## Aim:\n",
        "\n",
        "> Our aim is to find the absolute permeability of the core sample , from only one gas permeabilty measurement at a given mean pressure ($P_{m}$)\n",
        "\n",
        "### Governing equations:\n",
        "\n",
        "> $$ {k_{g}}  = {k_{l}} + \\frac{c}{P_{m}} \\:\\:\\:\\:\\:\\:[Eq-1]$$\n",
        "\n",
        "\n",
        "> $$ f(k_{l}) = 6.9(k_{l})^{0.64} + P_{m}(k_{l}-k_{g}) \\:\\:\\:\\:\\:\\:[Eq-2]\n",
        " $$\n",
        "\n",
        "\n",
        "> $$ f'(k_{l}) = 4.416(k_{l})^{-0.36} + P_{m} \\:\\:\\:\\:\\:\\:[Eq-3]$$\n",
        "\n",
        "\n",
        "\n",
        "\n",
        "## Procedure / Algorithm:\n",
        "\n",
        "> Absolute permeability ($k_{l}$) can be found by having gas permeability data from a core sample at a mean pressure ($P_{m}$). This can be done by solving (Eq-2) for $f(k_{l})=0$ .\n",
        "\n",
        "> But since this is a non-linear equation , we take help of Newton Raphson's iterative method.\n",
        "\n",
        "> $$k_{i+1}=k_{i} \\:-\\: \\frac{f(k_{l})}{f'(k_{l})} $$\n",
        "\n",
        "> In this method a random value of absolute permeability $k_{i}$ is assumed and new iterative permeability $k_{i+1}$ is obtained from (Eq-2)\n",
        "method is repeated until $f(k_{i})$ = 0 or close to it.\n",
        "\n",
        "(Courtsey- Tarek Ahmed)\n",
        "\n",
        "\n",
        "  \n",
        "\n"
      ],
      "metadata": {
        "id": "f-qBh6lgvXZH"
      }
    },
    {
      "cell_type": "code",
      "source": [
        "def klinkenberg():\n",
        "  k_g = float(input('\\nEnter gas_permeability: '))\n",
        "  p_m = float(input('Enter mean_pressure: '))\n",
        "  k_l = float(input('Assume a value for absolute_permeability: '))\n",
        "  while abs(6.9*(k_l)**(0.64)+(p_m)*(k_l-k_g)) > 0.0001:\n",
        "    k_l = k_l-(6.9*(k_l)**(0.64)+(p_m)*(k_l-k_g))/((4.416*(k_l)**(-0.36))+p_m)\n",
        "  print(f\"\\nThus absolute permeability after several iterations or gas permeability aat infinite mean pressure is : {k_l}\")\n",
        "\n",
        "  x = [0,1/p_m]\n",
        "  y = [k_l,k_g]\n",
        "\n",
        "  plt.figure(figsize=(8,4))\n",
        "  plt.plot(x,y,color='r')\n",
        "  plt.suptitle('Klinkenberg effect')\n",
        "  plt.xlabel('1/Pm')\n",
        "  plt.ylabel('Kg')\n",
        "  plt.show()\n",
        "\n",
        "klinkenberg()\n",
        ""
      ],
      "metadata": {
        "colab": {
          "base_uri": "https://localhost:8080/",
          "height": 456
        },
        "id": "3yVUYBj9_6Gl",
        "outputId": "50ba0478-9f30-42fd-d872-12963a407e7b"
      },
      "execution_count": 13,
      "outputs": [
        {
          "output_type": "stream",
          "name": "stdout",
          "text": [
            "\n",
            "Enter gas_permeability: 47\n",
            "Enter mean_pressure: 3\n",
            "Assume a value for absolute_permeability: 200\n",
            "\n",
            "Thus absolute permeability after several iterations or gas permeability aat infinite mean pressure is : 27.71973977292782\n"
          ]
        },
        {
          "output_type": "display_data",
          "data": {
            "text/plain": [
              "<Figure size 640x320 with 1 Axes>"
            ],
            "image/png": "[encoded data removed]"
          },
          "metadata": {}
        }
      ]
    }
  ]
}